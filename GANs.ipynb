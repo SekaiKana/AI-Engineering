{
 "cells": [
  {
   "cell_type": "markdown",
   "id": "df702665",
   "metadata": {},
   "source": [
    "# Develop GANs Using Keras"
   ]
  },
  {
   "cell_type": "markdown",
   "id": "228124a7",
   "metadata": {},
   "source": [
    "We will gain practical experience in developing generative adversarial networks (GANs) using Keras. We will learn to preprocess data, construct the generator and discriminator models, combine them to create the GAN, train the GAN, and evaluate its performance. GANs are powerful tools for generating synthetic data, and this notebook will provide a solid foundation for further exploration and experimenation with more advanced GAN architectures and applications.\n",
    "\n",
    " - Build, train, and evaluate GANs using Keras\n",
    " - Explore GAN architectures, data preprocessing, model training, and performance evaluation."
   ]
  },
  {
   "cell_type": "markdown",
   "id": "37070690",
   "metadata": {},
   "source": [
    "#### Step 1: Data preprocessing"
   ]
  },
  {
   "cell_type": "markdown",
   "id": "1660d793",
   "metadata": {},
   "source": [
    "1. Load images\n",
    " - Normalize the image pixel values to the range [-1, 1].\n",
    "\n",
    "2. Reshape the data:\n",
    " - Expand the dimensions of the images to match the input shape required by GAN."
   ]
  },
  {
   "cell_type": "code",
   "execution_count": 164,
   "id": "9242966e",
   "metadata": {},
   "outputs": [],
   "source": [
    "import os\n",
    "# Suppress oneDNN optimizations and lower TensorFlow logging level\n",
    "os.environ['TF_ENABLE_ONEDNN_OPTS'] = '0'\n",
    "os.environ['TF_CPP_MIN_LOG_LEVEL'] = '2'"
   ]
  },
  {
   "cell_type": "code",
   "execution_count": 165,
   "id": "74ad0082",
   "metadata": {},
   "outputs": [
    {
     "name": "stdout",
     "output_type": "stream",
     "text": [
      "\n",
      "🧪 TESTING EACH IMAGE:\n",
      "==================================================\n",
      "✅   1: 1.jpg\n",
      "✅   2: 10.jpg\n",
      "✅   3: 11.jpg\n",
      "✅   4: 12.jpg\n",
      "✅   5: 13.jpg\n",
      "✅   6: 14.jpg\n",
      "✅   7: 15.jpg\n",
      "✅   8: 16.jpg\n",
      "✅   9: 17.jpg\n",
      "✅  10: 18.jpg\n",
      "✅  11: 2.jpg\n",
      "✅  12: 20.jpg\n",
      "✅  13: 21.jpg\n",
      "✅  14: 22.jpg\n",
      "✅  15: 23.jpg\n",
      "✅  16: 25.jpg\n",
      "✅  17: 26.jpg\n",
      "✅  18: 29.jpg\n",
      "✅  19: 3.jpg\n",
      "✅  20: 31.jpg\n",
      "✅  21: 32.jpg\n",
      "✅  22: 33.jpg\n",
      "✅  23: 37.jpg\n",
      "✅  24: 38.jpg\n",
      "✅  25: 39.jpg\n",
      "✅  26: 4.jpg\n",
      "✅  27: 40.jpg\n",
      "✅  28: 41.jpg\n",
      "✅  29: 42.jpg\n",
      "✅  30: 43.jpg\n",
      "✅  31: 44.jpg\n",
      "✅  32: 45.jpg\n",
      "✅  33: 46.jpg\n",
      "✅  34: 47.jpg\n",
      "✅  35: 48.jpg\n",
      "✅  36: 49.jpg\n",
      "✅  37: 5.jpg\n",
      "✅  38: 50.jpg\n",
      "✅  39: 6.jpg\n",
      "✅  40: 7.jpg\n",
      "✅  41: 8.jpg\n",
      "\n",
      "Summary:\n",
      "Good images: 41\n",
      "Bad images: 0\n"
     ]
    },
    {
     "data": {
      "text/plain": [
       "([WindowsPath('O/1.jpg'),\n",
       "  WindowsPath('O/10.jpg'),\n",
       "  WindowsPath('O/11.jpg'),\n",
       "  WindowsPath('O/12.jpg'),\n",
       "  WindowsPath('O/13.jpg'),\n",
       "  WindowsPath('O/14.jpg'),\n",
       "  WindowsPath('O/15.jpg'),\n",
       "  WindowsPath('O/16.jpg'),\n",
       "  WindowsPath('O/17.jpg'),\n",
       "  WindowsPath('O/18.jpg'),\n",
       "  WindowsPath('O/2.jpg'),\n",
       "  WindowsPath('O/20.jpg'),\n",
       "  WindowsPath('O/21.jpg'),\n",
       "  WindowsPath('O/22.jpg'),\n",
       "  WindowsPath('O/23.jpg'),\n",
       "  WindowsPath('O/25.jpg'),\n",
       "  WindowsPath('O/26.jpg'),\n",
       "  WindowsPath('O/29.jpg'),\n",
       "  WindowsPath('O/3.jpg'),\n",
       "  WindowsPath('O/31.jpg'),\n",
       "  WindowsPath('O/32.jpg'),\n",
       "  WindowsPath('O/33.jpg'),\n",
       "  WindowsPath('O/37.jpg'),\n",
       "  WindowsPath('O/38.jpg'),\n",
       "  WindowsPath('O/39.jpg'),\n",
       "  WindowsPath('O/4.jpg'),\n",
       "  WindowsPath('O/40.jpg'),\n",
       "  WindowsPath('O/41.jpg'),\n",
       "  WindowsPath('O/42.jpg'),\n",
       "  WindowsPath('O/43.jpg'),\n",
       "  WindowsPath('O/44.jpg'),\n",
       "  WindowsPath('O/45.jpg'),\n",
       "  WindowsPath('O/46.jpg'),\n",
       "  WindowsPath('O/47.jpg'),\n",
       "  WindowsPath('O/48.jpg'),\n",
       "  WindowsPath('O/49.jpg'),\n",
       "  WindowsPath('O/5.jpg'),\n",
       "  WindowsPath('O/50.jpg'),\n",
       "  WindowsPath('O/6.jpg'),\n",
       "  WindowsPath('O/7.jpg'),\n",
       "  WindowsPath('O/8.jpg')],\n",
       " [])"
      ]
     },
     "execution_count": 165,
     "metadata": {},
     "output_type": "execute_result"
    }
   ],
   "source": [
    "def test_image_loading(folder_path=\"O\"):\n",
    "    \"\"\"\n",
    "    Test loading each image to find the problematic one\n",
    "    \"\"\"\n",
    "    print(\"\\n🧪 TESTING EACH IMAGE:\")\n",
    "    print(\"=\"*50)\n",
    "    \n",
    "    image_paths = list(pathlib.Path(folder_path).glob(\"*.jpg\"))\n",
    "    \n",
    "    good_images = []\n",
    "    bad_images = []\n",
    "    \n",
    "    for i, path in enumerate(image_paths):\n",
    "        try:\n",
    "            # Test with TensorFlow\n",
    "            img = tf.io.read_file(str(path))\n",
    "            img = tf.image.decode_jpeg(img, channels=3)\n",
    "            print(f\"✅ {i+1:3d}: {path.name}\")\n",
    "            good_images.append(path)\n",
    "            \n",
    "        except Exception as e:\n",
    "            print(f\"❌ {i+1:3d}: {path.name} - ERROR: {str(e)}\")\n",
    "            bad_images.append(path)\n",
    "    \n",
    "    print(f\"\\nSummary:\")\n",
    "    print(f\"Good images: {len(good_images)}\")\n",
    "    print(f\"Bad images: {len(bad_images)}\")\n",
    "    \n",
    "    if bad_images:\n",
    "        print(f\"\\nProblematic files:\")\n",
    "        for bad_path in bad_images:\n",
    "            print(f\"  {bad_path}\")\n",
    "    \n",
    "    return good_images, bad_images\n",
    "\n",
    "\n",
    "test_image_loading('O')\n"
   ]
  },
  {
   "cell_type": "code",
   "execution_count": 166,
   "id": "ccac5d4f",
   "metadata": {},
   "outputs": [
    {
     "name": "stdout",
     "output_type": "stream",
     "text": [
      "(32, 128, 128, 3)\n",
      "(9, 128, 128, 3)\n",
      "🍍 AUGMENTING PINEAPPLE DATA:\n",
      "==================================================\n",
      "Original dataset: 32 images\n",
      "Augmented dataset: 320 images\n",
      "(320, 128, 128, 3)\n"
     ]
    }
   ],
   "source": [
    "import numpy as np\n",
    "import tensorflow as tf\n",
    "from tensorflow.keras.datasets import mnist\n",
    "from tensorflow.keras.layers import Input, Conv2D, Flatten, Dense, Reshape, Conv2DTranspose\n",
    "from tensorflow.keras.models import Model\n",
    "from tensorflow.keras.callbacks import EarlyStopping\n",
    "import pathlib\n",
    "\n",
    "# load all image paths\n",
    "image_paths = list(pathlib.Path(\"O\").glob(\"*.jpg\"))\n",
    "\n",
    "# split 80/20\n",
    "train_size = int(0.8 * len(image_paths))\n",
    "train_paths, test_paths = image_paths[:train_size], image_paths[train_size:]\n",
    "\n",
    "# function to load, resize, normalize\n",
    "def load_and_preprocess(path):\n",
    "    img = tf.io.read_file(str(path))\n",
    "    img = tf.image.decode_jpeg(img, channels=3)           # RGB (3 channel)\n",
    "    img = tf.image.resize(img, (128, 128))                  # resize to 128x128\n",
    "    img = tf.cast(img, tf.float32) / 127.5 - 1.0  # normalize to [-1,1]\n",
    "    return img.numpy()\n",
    "\n",
    "# load into numpy arrays\n",
    "x_train = np.array([load_and_preprocess(p) for p in train_paths])\n",
    "x_test  = np.array([load_and_preprocess(p) for p in test_paths])\n",
    "\n",
    "# no labels\n",
    "y_train = y_test = None\n",
    "\n",
    "print(x_train.shape)  # e.g. (num_train, 128, 128, 1)\n",
    "print(x_test.shape)   # e.g. (num_test, 128, 128, 1)\n",
    "\n",
    "def augment_pineapple_data(x_train):\n",
    "    \"\"\"\n",
    "    Increase 41 images to ~200+ through augmentation\n",
    "    \"\"\"\n",
    "    print(\"🍍 AUGMENTING PINEAPPLE DATA:\")\n",
    "    print(\"=\"*50)\n",
    "    \n",
    "    augmented_data = []\n",
    "    \n",
    "    for img in x_train:\n",
    "        # Original image\n",
    "        augmented_data.append(img)\n",
    "        \n",
    "        # Horizontal flip\n",
    "        flipped = tf.image.flip_left_right(img)\n",
    "        augmented_data.append(flipped.numpy())\n",
    "        \n",
    "        # Slight rotations\n",
    "        for angle in [0.1, -0.1, 0.2, -0.2]:  # Small rotations in radians\n",
    "            rotated = tf.image.rot90(img, k=1)  # 90 degree rotation\n",
    "            augmented_data.append(rotated.numpy())\n",
    "        \n",
    "        # Brightness variations\n",
    "        for brightness in [0.1, -0.1]:\n",
    "            bright = tf.image.adjust_brightness(img, brightness)\n",
    "            bright = tf.clip_by_value(bright, -1, 1)  # Keep in [-1,1] range\n",
    "            augmented_data.append(bright.numpy())\n",
    "        \n",
    "        # Small crops and resize\n",
    "        for i in range(2):\n",
    "            # Random crop\n",
    "            cropped = tf.image.random_crop(img, [120, 120, 3])\n",
    "            resized = tf.image.resize(cropped, [128, 128])\n",
    "            augmented_data.append(resized.numpy())\n",
    "    \n",
    "    augmented = np.array(augmented_data)\n",
    "    print(f\"Original dataset: {len(x_train)} images\")\n",
    "    print(f\"Augmented dataset: {len(augmented)} images\")\n",
    "    \n",
    "    return augmented\n",
    "\n",
    "x_train_augmented = augment_pineapple_data(x_train)\n",
    "print(x_train_augmented.shape)  # e.g. (num_train, 128, 128, 1)\n"
   ]
  },
  {
   "cell_type": "code",
   "execution_count": 167,
   "id": "e454f44e",
   "metadata": {},
   "outputs": [
    {
     "name": "stdout",
     "output_type": "stream",
     "text": [
      "(320, 32, 32, 3)\n"
     ]
    }
   ],
   "source": [
    "x_train_augmented = tf.image.resize(x_train_augmented, (32, 32)).numpy()\n",
    "print(x_train_augmented.shape)  # e.g. (num_train, 128, 128, 1)\n"
   ]
  },
  {
   "cell_type": "code",
   "execution_count": 168,
   "id": "ae5ba9fe",
   "metadata": {},
   "outputs": [
    {
     "data": {
      "image/png": "[encoded data removed]",
      "text/plain": [
       "<Figure size 640x480 with 1 Axes>"
      ]
     },
     "metadata": {},
     "output_type": "display_data"
    },
    {
     "name": "stdout",
     "output_type": "stream",
     "text": [
      "Shape: (32, 32, 3)\n",
      "Red channel range: [-0.870, 0.992]\n",
      "Green channel range: [-0.810, 0.992]\n",
      "Blue channel range: [-0.940, 0.992]\n"
     ]
    }
   ],
   "source": [
    "# Test if your strawberries have color:\n",
    "import matplotlib.pyplot as plt\n",
    "sample = x_train_augmented[5]\n",
    "plt.imshow((sample + 1) / 2)  # Convert [-1,1] back to [0,1] for display\n",
    "plt.title(\"First training image\")\n",
    "plt.show()\n",
    "print(f\"Shape: {sample.shape}\")\n",
    "print(f\"Red channel range: [{sample[:,:,0].min():.3f}, {sample[:,:,0].max():.3f}]\")\n",
    "print(f\"Green channel range: [{sample[:,:,1].min():.3f}, {sample[:,:,1].max():.3f}]\")\n",
    "print(f\"Blue channel range: [{sample[:,:,2].min():.3f}, {sample[:,:,2].max():.3f}]\")"
   ]
  },
  {
   "cell_type": "markdown",
   "id": "c9d74a3f",
   "metadata": {},
   "source": [
    "In the code above we prepared the dataset for training by normzaliing the pixel values to the range [-1, 1] (standard and recommended approach). Normalization helps in faster convergence during training, and reshaping is required because the input layer of our GAN expects a three-dimentsional tensor."
   ]
  },
  {
   "cell_type": "markdown",
   "id": "eb2a3315",
   "metadata": {},
   "source": [
    "#### Step 2: Building the generator model"
   ]
  },
  {
   "cell_type": "markdown",
   "id": "04b6ec29",
   "metadata": {},
   "source": [
    "Construct the generator model for the GAN using the Keras functional API.\n",
    "\n",
    "1. Define the generator.\n",
    " - Create a Sequential model.\n",
    " - Add Dense, LeakyReLU, BatchNormalization, and Reshape layers to build the generator."
   ]
  },
  {
   "cell_type": "code",
   "execution_count": 169,
   "id": "abc090fc",
   "metadata": {},
   "outputs": [
    {
     "name": "stdout",
     "output_type": "stream",
     "text": [
      "Model: \"sequential_35\"\n",
      "_________________________________________________________________\n",
      "Layer (type)                 Output Shape              Param #   \n",
      "=================================================================\n",
      "dense_41 (Dense)             (None, 32768)             3309568   \n",
      "_________________________________________________________________\n",
      "leaky_re_lu_130 (LeakyReLU)  (None, 32768)             0         \n",
      "_________________________________________________________________\n",
      "batch_normalization_106 (Bat (None, 32768)             131072    \n",
      "_________________________________________________________________\n",
      "reshape_10 (Reshape)         (None, 8, 8, 512)         0         \n",
      "_________________________________________________________________\n",
      "up_sampling2d_30 (UpSampling (None, 16, 16, 512)       0         \n",
      "_________________________________________________________________\n",
      "conv2d_119 (Conv2D)          (None, 16, 16, 256)       1179904   \n",
      "_________________________________________________________________\n",
      "leaky_re_lu_131 (LeakyReLU)  (None, 16, 16, 256)       0         \n",
      "_________________________________________________________________\n",
      "batch_normalization_107 (Bat (None, 16, 16, 256)       1024      \n",
      "_________________________________________________________________\n",
      "up_sampling2d_31 (UpSampling (None, 32, 32, 256)       0         \n",
      "_________________________________________________________________\n",
      "conv2d_120 (Conv2D)          (None, 32, 32, 128)       295040    \n",
      "_________________________________________________________________\n",
      "leaky_re_lu_132 (LeakyReLU)  (None, 32, 32, 128)       0         \n",
      "_________________________________________________________________\n",
      "batch_normalization_108 (Bat (None, 32, 32, 128)       512       \n",
      "_________________________________________________________________\n",
      "conv2d_121 (Conv2D)          (None, 32, 32, 3)         3459      \n",
      "=================================================================\n",
      "Total params: 4,920,579\n",
      "Trainable params: 4,854,275\n",
      "Non-trainable params: 66,304\n",
      "_________________________________________________________________\n"
     ]
    }
   ],
   "source": [
    "from tensorflow.keras.models import Sequential\n",
    "from tensorflow.keras.layers import Dense, LeakyReLU, BatchNormalization, Reshape, Conv2D, UpSampling2D\n",
    "\n",
    "# Define the generator model\n",
    "# def build_generator():\n",
    "#     model = Sequential()\n",
    "#     model.add(Dense(256, input_dim=100))\n",
    "#     model.add(LeakyReLU(alpha=0.2))\n",
    "#      # above two lines = model.add(Dense(256, activation=LeakyReLU(alpha=0.2)))  # Still need BatchNorm separately\n",
    "#     model.add(BatchNormalization(momentum=0.8))\n",
    "#     model.add(Dense(512))\n",
    "#     model.add(LeakyReLU(alpha=0.2))\n",
    "#     model.add(BatchNormalization(momentum=0.8))\n",
    "#     model.add(Dense(1024))\n",
    "#     model.add(LeakyReLU(alpha=0.2))\n",
    "#     model.add(BatchNormalization(momentum=0.8))\n",
    "#     model.add(Dense(128*128*3, activation='tanh'))\n",
    "#     model.add(Reshape((128, 128, 3)))  \n",
    "#     return model\n",
    "\n",
    "latent_dim=100\n",
    "\n",
    "# def build_generator():\n",
    "#     model = Sequential()\n",
    "#     # Step 1: Dense layer - Convert noise to feature representation\n",
    "#     model.add(Dense(8*8*512, input_dim=latent_dim))\n",
    "#     model.add(LeakyReLU(alpha=0.2))\n",
    "#     model.add(BatchNormalization(momentum=0.8)) # Stabalize training\n",
    "#     # Step 2: Reshape to 3D tensor\n",
    "#     model.add(Reshape((8, 8, 512)))\n",
    "#     # Step 3: Upsampling Block 1 (8x8 -> 16x16)\n",
    "#     model.add(UpSampling2D())\n",
    "#     model.add(Conv2D(256, kernel_size=3, padding='same'))\n",
    "#     model.add(LeakyReLU(alpha=0.2))\n",
    "#     model.add(BatchNormalization(momentum=0.8))\n",
    "#     # Step 4: Upsampling Block 2\n",
    "#     model.add(UpSampling2D())\n",
    "#     model.add(Conv2D(128, kernel_size=3, padding='same'))\n",
    "#     model.add(LeakyReLU(alpha=0.2))\n",
    "#     model.add(BatchNormalization(momentum=0.8))\n",
    "#     # Step 5: Upsampling Block 3\n",
    "#     model.add(UpSampling2D())\n",
    "#     model.add(Conv2D(64, kernel_size=3, padding='same'))\n",
    "#     model.add(LeakyReLU(alpha=0.2))\n",
    "#     model.add(BatchNormalization(momentum=0.8))\n",
    "#     # Step 6: Upsampling Block 4\n",
    "#     model.add(UpSampling2D())\n",
    "#     model.add(Conv2D(32, kernel_size=3, padding='same'))\n",
    "#     model.add(LeakyReLU(alpha=0.2))\n",
    "#     model.add(BatchNormalization(momentum=0.8))\n",
    "#     # Step 7: Final Output Layer\n",
    "#     # Convert to actual RGB image (3 channels)\n",
    "#     # tanh gives values between -1 and 1 (good for image data)\n",
    "#     model.add(Conv2D(3, kernel_size=3, padding='same', activation='tanh'))\n",
    "#     return model\n",
    "\n",
    "def build_generator():\n",
    "    model = Sequential()\n",
    "    # Step 1: Dense layer - Convert noise to feature representation\n",
    "    model.add(Dense(8*8*512, input_dim=latent_dim))\n",
    "    model.add(LeakyReLU(alpha=0.2))\n",
    "    model.add(BatchNormalization(momentum=0.8))\n",
    "    # Step 2: Reshape to 3D tensor\n",
    "    model.add(Reshape((8, 8, 512)))\n",
    "    # Step 3: Upsampling Block 1 (8x8 -> 16x16)\n",
    "    model.add(UpSampling2D())\n",
    "    model.add(Conv2D(256, kernel_size=3, padding='same'))\n",
    "    model.add(LeakyReLU(alpha=0.2))\n",
    "    model.add(BatchNormalization(momentum=0.8))\n",
    "    # Step 4: Upsampling Block 2 (16x16 -> 32x32)\n",
    "    model.add(UpSampling2D())\n",
    "    model.add(Conv2D(128, kernel_size=3, padding='same'))\n",
    "    model.add(LeakyReLU(alpha=0.2))\n",
    "    model.add(BatchNormalization(momentum=0.8))\n",
    "    # Step 5: Final Output Layer - STOP HERE FOR 32x32\n",
    "    model.add(Conv2D(3, kernel_size=3, padding='same', activation='tanh'))\n",
    "    return model\n",
    "    \n",
    "\n",
    "# Build the generator\n",
    "generator = build_generator()\n",
    "generator.summary()"
   ]
  },
  {
   "cell_type": "markdown",
   "id": "2a120b3b",
   "metadata": {},
   "source": [
    "This step involves building the generator model for the GAN. The generator takes a random noise vector as an input and generates a synthetic image. The model uses Dense, LeakyRelu, BatchNormalization, and Reshape layers to achieve this. "
   ]
  },
  {
   "cell_type": "markdown",
   "id": "a7bdf2b8",
   "metadata": {},
   "source": [
    "#### Step 3: Building the discriminator model"
   ]
  },
  {
   "cell_type": "markdown",
   "id": "59b4e8aa",
   "metadata": {},
   "source": [
    "Construct the discriminator model for the GAN using the Keras functional API.\n",
    "\n",
    "1. Define the discriminator\n",
    " - Create a Sequential model. \n",
    " - Add Flatten, Dense, and LeakyReLU layers to build the discriminator.\n",
    "\n",
    "2. Compile the discriminator.\n",
    " - Compile the model using binary cross-entropy loss and the Adam optimizer."
   ]
  },
  {
   "cell_type": "code",
   "execution_count": 170,
   "id": "ea7922af",
   "metadata": {},
   "outputs": [
    {
     "name": "stdout",
     "output_type": "stream",
     "text": [
      "After block 1: 16x16x32\n",
      "After block 2: 8x8x64\n",
      "After block 3: 4x4x128\n",
      "Final output: 1 (probability)\n",
      "Model: \"sequential_36\"\n",
      "_________________________________________________________________\n",
      "Layer (type)                 Output Shape              Param #   \n",
      "=================================================================\n",
      "conv2d_122 (Conv2D)          (None, 16, 16, 32)        896       \n",
      "_________________________________________________________________\n",
      "leaky_re_lu_133 (LeakyReLU)  (None, 16, 16, 32)        0         \n",
      "_________________________________________________________________\n",
      "dropout_81 (Dropout)         (None, 16, 16, 32)        0         \n",
      "_________________________________________________________________\n",
      "conv2d_123 (Conv2D)          (None, 8, 8, 64)          18496     \n",
      "_________________________________________________________________\n",
      "leaky_re_lu_134 (LeakyReLU)  (None, 8, 8, 64)          0         \n",
      "_________________________________________________________________\n",
      "dropout_82 (Dropout)         (None, 8, 8, 64)          0         \n",
      "_________________________________________________________________\n",
      "batch_normalization_109 (Bat (None, 8, 8, 64)          256       \n",
      "_________________________________________________________________\n",
      "conv2d_124 (Conv2D)          (None, 4, 4, 128)         73856     \n",
      "_________________________________________________________________\n",
      "leaky_re_lu_135 (LeakyReLU)  (None, 4, 4, 128)         0         \n",
      "_________________________________________________________________\n",
      "dropout_83 (Dropout)         (None, 4, 4, 128)         0         \n",
      "_________________________________________________________________\n",
      "batch_normalization_110 (Bat (None, 4, 4, 128)         512       \n",
      "_________________________________________________________________\n",
      "flatten_20 (Flatten)         (None, 2048)              0         \n",
      "_________________________________________________________________\n",
      "dense_42 (Dense)             (None, 1)                 2049      \n",
      "=================================================================\n",
      "Total params: 96,065\n",
      "Trainable params: 95,681\n",
      "Non-trainable params: 384\n",
      "_________________________________________________________________\n"
     ]
    }
   ],
   "source": [
    "from tensorflow.keras.layers import Flatten, Dense, LeakyReLU, Dropout\n",
    "from tensorflow.keras.models import Sequential \n",
    "from tensorflow.keras.optimizers import Adam\n",
    "\n",
    "\n",
    "# Define the discriminator model\n",
    "# def build_discriminator():\n",
    "#     model = Sequential()\n",
    "#     model.add(Flatten(input_shape=(128, 128, 3)))\n",
    "#     model.add(Dense(512))\n",
    "#     model.add(LeakyReLU(alpha=0.2))\n",
    "#     model.add(Dense(256))\n",
    "#     model.add(LeakyReLU(alpha=0.2))\n",
    "#     model.add(Dense(1, activation='sigmoid'))\n",
    "#     return model\n",
    "\n",
    "# def build_discriminator():\n",
    "#     model = Sequential()\n",
    "#     # Block 1: 128x128 -> 64x64\n",
    "#     model.add(Conv2D(32, kernel_size=3, strides=2, input_shape=(128, 128, 3), padding='same'))\n",
    "#     model.add(LeakyReLU(alpha=0.2))\n",
    "#     model.add(Dropout(0.5))  # Prevents overfitting\n",
    "#     print(\"After block 1: 64x64x32\")\n",
    "    \n",
    "#     # Block 2: 64x64 -> 32x32\n",
    "#     model.add(Conv2D(64, kernel_size=3, strides=2, padding='same'))\n",
    "#     model.add(LeakyReLU(alpha=0.2))\n",
    "#     model.add(Dropout(0.5))\n",
    "#     model.add(BatchNormalization(momentum=0.8))\n",
    "#     print(\"After block 2: 32x32x64\")\n",
    "    \n",
    "#     # Block 3: 32x32 -> 16x16\n",
    "#     model.add(Conv2D(128, kernel_size=3, strides=2, padding='same'))\n",
    "#     model.add(LeakyReLU(alpha=0.2))\n",
    "#     model.add(Dropout(0.5))\n",
    "#     model.add(BatchNormalization(momentum=0.8))\n",
    "#     print(\"After block 3: 16x16x128\")\n",
    "    \n",
    "#     # Block 4: 16x16 -> 8x8\n",
    "#     model.add(Conv2D(256, kernel_size=3, strides=2, padding='same'))\n",
    "#     model.add(LeakyReLU(alpha=0.2))\n",
    "#     model.add(Dropout(0.5))\n",
    "#     model.add(BatchNormalization(momentum=0.8))\n",
    "#     print(\"After block 4: 8x8x256\")\n",
    "    \n",
    "#     # Block 5: 8x8 -> 4x4\n",
    "#     model.add(Conv2D(512, kernel_size=3, strides=2, padding='same'))\n",
    "#     model.add(LeakyReLU(alpha=0.2))\n",
    "#     model.add(Dropout(0.5))\n",
    "#     model.add(BatchNormalization(momentum=0.8))\n",
    "#     print(\"After block 5: 4x4x512\")\n",
    "    \n",
    "#     # Final layers: Convert to single probability\n",
    "#     model.add(Flatten())  # 4*4*512 = 8,192 numbers\n",
    "#     model.add(Dense(1, activation='sigmoid'))  # Real (1) or Fake (0)\n",
    "#     print(\"Final output: 1 (probability)\")\n",
    "    \n",
    "#     return model\n",
    "\n",
    "def build_discriminator():\n",
    "    model = Sequential()\n",
    "    # Block 1: 32x32 -> 16x16 (CHANGED from 128x128)\n",
    "    model.add(Conv2D(32, kernel_size=3, strides=2, input_shape=(32, 32, 3), padding='same'))\n",
    "    model.add(LeakyReLU(alpha=0.2))\n",
    "    model.add(Dropout(0.5))\n",
    "    print(\"After block 1: 16x16x32\")\n",
    "    \n",
    "    # Block 2: 16x16 -> 8x8\n",
    "    model.add(Conv2D(64, kernel_size=3, strides=2, padding='same'))\n",
    "    model.add(LeakyReLU(alpha=0.2))\n",
    "    model.add(Dropout(0.5))\n",
    "    model.add(BatchNormalization(momentum=0.8))\n",
    "    print(\"After block 2: 8x8x64\")\n",
    "    \n",
    "    # Block 3: 8x8 -> 4x4\n",
    "    model.add(Conv2D(128, kernel_size=3, strides=2, padding='same'))\n",
    "    model.add(LeakyReLU(alpha=0.2))\n",
    "    model.add(Dropout(0.5))\n",
    "    model.add(BatchNormalization(momentum=0.8))\n",
    "    print(\"After block 3: 4x4x128\")\n",
    "    \n",
    "    # REMOVE the extra blocks - you don't need them for 32x32 input\n",
    "    \n",
    "    # Final layers\n",
    "    model.add(Flatten())  # 4*4*128 = 2,048 numbers\n",
    "    model.add(Dense(1, activation='sigmoid'))\n",
    "    print(\"Final output: 1 (probability)\")\n",
    "    \n",
    "    return model\n",
    "\n",
    "d_optimizer = Adam(learning_rate=0.00007)  # Half speed\n",
    "\n",
    "# Build and compile the discriminator \n",
    "discriminator = build_discriminator()\n",
    "discriminator.compile(loss='binary_crossentropy', optimizer=d_optimizer, metrics=['accuracy'])\n",
    "discriminator.summary()\n",
    "\n"
   ]
  },
  {
   "cell_type": "markdown",
   "id": "ca484c9b",
   "metadata": {},
   "source": [
    "This step involved building the discriminator model for the GAN. The disriminator takes an image as an input and outputs a probability indicating whether the image is real or fake. The model uses Flatten, Dense, and LeakyReLU layers to achieve this. "
   ]
  },
  {
   "cell_type": "markdown",
   "id": "af0784a0",
   "metadata": {},
   "source": [
    "#### Step 4: Building the GAN Model"
   ]
  },
  {
   "cell_type": "markdown",
   "id": "c528a86f",
   "metadata": {},
   "source": [
    "Combine the generator and discriminator to create the GAN model using the Keras functional API."
   ]
  },
  {
   "cell_type": "markdown",
   "id": "69584ca1",
   "metadata": {},
   "source": [
    "1. Define the GAN.\n",
    " - Create an input layer for the noise vector.\n",
    " - Pass the noise vector though the generator to produce a synthetic image.\n",
    " - Pass the synthetic image thorugh the discriminator to get the classficiation.\n",
    " - Compile the GAN using binary corss-entropy loss and the Adam optimizer."
   ]
  },
  {
   "cell_type": "code",
   "execution_count": 171,
   "id": "912e0460",
   "metadata": {},
   "outputs": [
    {
     "name": "stdout",
     "output_type": "stream",
     "text": [
      "Model: \"model_15\"\n",
      "_________________________________________________________________\n",
      "Layer (type)                 Output Shape              Param #   \n",
      "=================================================================\n",
      "input_16 (InputLayer)        [(None, 100)]             0         \n",
      "_________________________________________________________________\n",
      "sequential_35 (Sequential)   (None, 32, 32, 3)         4920579   \n",
      "_________________________________________________________________\n",
      "sequential_36 (Sequential)   (None, 1)                 96065     \n",
      "=================================================================\n",
      "Total params: 5,016,644\n",
      "Trainable params: 4,854,275\n",
      "Non-trainable params: 162,369\n",
      "_________________________________________________________________\n"
     ]
    }
   ],
   "source": [
    "from tensorflow.keras.layers import Input\n",
    "from tensorflow.keras.models import Model\n",
    "from tensorflow.keras.optimizers import Adam\n",
    "\n",
    "\n",
    "# Create the GAN by stacking the generator and the discriminator \n",
    "# def build_gan(generator, discriminator):\n",
    "#     discriminator.trainable = False\n",
    "#     gan_input = Input(shape=(100,))\n",
    "#     generated_image = generator(gan_input)\n",
    "#     gan_output = discriminator(generated_image)\n",
    "#     gan = Model(gan_input, gan_output)\n",
    "#     gan.compile(loss='binary_crossentropy', optimizer='adam')\n",
    "#     return gan\n",
    "\n",
    "def build_gan(generator, discriminator):\n",
    "    # Step 1: Freeze discriminator (same as yours)\n",
    "    discriminator.trainable = False\n",
    "    \n",
    "    # Step 2: Build the model architecture (same as yours)\n",
    "    gan_input = Input(shape=(100,))\n",
    "    generated_image = generator(gan_input)\n",
    "    gan_output = discriminator(generated_image)\n",
    "    gan = Model(gan_input, gan_output)\n",
    "    \n",
    "    # Step 3: Better optimizer settings for GAN training\n",
    "    optimizer = Adam(learning_rate=0.0002, beta_1=0.5)  # Better than default 'adam'\n",
    "\n",
    "    g_optimizer = Adam(learning_rate=0.0004)  # Normal\n",
    "    gan.compile(loss='binary_crossentropy', optimizer=g_optimizer)\n",
    "    return gan\n",
    "\n",
    "# Build the GAN\n",
    "gan = build_gan(generator, discriminator)\n",
    "gan.summary()"
   ]
  },
  {
   "cell_type": "markdown",
   "id": "2da26f8d",
   "metadata": {},
   "source": [
    "How It Works:\n",
    "\n",
    "    Takes random noise → Expands through Dense layers\n",
    "    Learns patterns from your real image dataset during training\n",
    "    Generates fake images that look similar to real ones\n",
    "    Goal: Fool the discriminator into thinking fake images are real\n",
    "\n",
    "The Magic:\n",
    "\n",
    "    Same noise → Same fake image (deterministic)\n",
    "    Different noise → Different fake image\n",
    "    After training, it learns to create realistic-looking images from pure randomness!"
   ]
  },
  {
   "cell_type": "markdown",
   "id": "5f9fdecf",
   "metadata": {},
   "source": [
    "This step involves combining the generator and discriminator models to create the GAN. The GAN takes a noise vector as an input, generates a synthetic image using the generator, and classifies the image using the discriminator. The discriminator is set to non-trainable when compiling the GAN to ensure that only the generator is updated during the adversarial training. "
   ]
  },
  {
   "cell_type": "markdown",
   "id": "56936e7a",
   "metadata": {},
   "source": [
    "#### Step 5: Training the GAN"
   ]
  },
  {
   "cell_type": "markdown",
   "id": "350fac64",
   "metadata": {},
   "source": [
    "Train the GAN on our dataset."
   ]
  },
  {
   "cell_type": "markdown",
   "id": "f84d3497",
   "metadata": {},
   "source": [
    "1. Define training parameters.\n",
    "    - Set the batch size, number of epochs, and sample interval.\n",
    "\n",
    "2. Train the discriminator.\n",
    "    - Sample a batchs of real images from the dataset.\n",
    "    - Generate a batch of synthetic images from the generator.\n",
    "    - Train the discriminator on both real and generated images.\n",
    "\n",
    "3. Train the generator.\n",
    "    - Generate a batch of noise vectors.\n",
    "    - Train the GAN to improve the generator's ability to fool the discriminator. \n",
    "\n",
    "4. Print the progrss:\n",
    "    - Print the discriminator and generator losses at regular intervals."
   ]
  },
  {
   "cell_type": "code",
   "execution_count": 172,
   "id": "6a09a013",
   "metadata": {},
   "outputs": [
    {
     "name": "stdout",
     "output_type": "stream",
     "text": [
      " 0 [D loss: 0.8189836740493774] [D accuracy: 45.3125%] [G loss: 0.7279362678527832]\n",
      " 10 [D loss: 1.1049671471118927] [D accuracy: 37.5%] [G loss: 0.8931807279586792]\n",
      " 20 [D loss: 0.9055431485176086] [D accuracy: 35.9375%] [G loss: 0.655125617980957]\n",
      " 30 [D loss: 1.0735484957695007] [D accuracy: 37.5%] [G loss: 0.6752907037734985]\n",
      " 40 [D loss: 1.0183650255203247] [D accuracy: 42.1875%] [G loss: 0.5324841737747192]\n",
      " 50 [D loss: 1.02749502658844] [D accuracy: 46.875%] [G loss: 0.6438471078872681]\n",
      " 60 [D loss: 1.0404762923717499] [D accuracy: 46.875%] [G loss: 0.45807644724845886]\n",
      " 70 [D loss: 0.9282672703266144] [D accuracy: 56.25%] [G loss: 0.4962243437767029]\n"
     ]
    }
   ],
   "source": [
    "batch_size = 32\n",
    "epochs = 80\n",
    "sample_interval = 10\n",
    "\n",
    "# Adversarial ground truths\n",
    "real = np.ones((batch_size, 1))\n",
    "fake = np.zeros((batch_size, 1))\n",
    "\n",
    "# Training loop\n",
    "for epoch in range(epochs):\n",
    "    # Train the discriminator\n",
    "    idx = np.random.randint(0, x_train_augmented.shape[0], batch_size)\n",
    "    real_images = x_train_augmented[idx]\n",
    "    noise = np.random.normal(0, 1, (batch_size, 100))\n",
    "    generated_images = generator.predict(noise)\n",
    "    d_loss_real = discriminator.train_on_batch(real_images, real)\n",
    "    d_loss_fake = discriminator.train_on_batch(generated_images, fake)\n",
    "    d_loss = 0.5 * np.add(d_loss_real, d_loss_fake)\n",
    "\n",
    "    # Train the generator\n",
    "    noise = np.random.normal(0, 1, (batch_size, 100))\n",
    "    g_loss = gan.train_on_batch(noise, real)\n",
    "\n",
    "    # Prin the progress \n",
    "    if epoch % sample_interval == 0:\n",
    "        print(f\" {epoch} [D loss: {d_loss[0]}] [D accuracy: {100 * d_loss[1]}%] [G loss: {g_loss}]\")"
   ]
  },
  {
   "cell_type": "markdown",
   "id": "7a2f737f",
   "metadata": {},
   "source": [
    "#### Step 6: Assessing the Quality of Generated Images"
   ]
  },
  {
   "cell_type": "markdown",
   "id": "a6a46551",
   "metadata": {},
   "source": [
    "Evaluate the performance of the trained GAN."
   ]
  },
  {
   "cell_type": "markdown",
   "id": "2603c6af",
   "metadata": {},
   "source": [
    "##### Evaluate the GAN"
   ]
  },
  {
   "cell_type": "markdown",
   "id": "2c4425a9",
   "metadata": {},
   "source": [
    "After training the GAN, we need to assess the quality of the synthetic images generated by the generator. There are two main ways to evaluate the performance of GANs: qualitative assessment and quantitative assessment."
   ]
  },
  {
   "cell_type": "markdown",
   "id": "86144a3e",
   "metadata": {},
   "source": [
    "##### Qualitative Assessment: Visual Inspection "
   ]
  },
  {
   "cell_type": "markdown",
   "id": "cebb373b",
   "metadata": {},
   "source": [
    "Visual inspection is a straightforward method to assess the quality of images generated by a GAN. We can use the `sample_images` function provided in the lab to visualize a grid of generated images. During visual inspection, look for the following qualities: \n",
    "\n",
    "- **Clarity**: The images should be sharp and not blurry. Blurry images indicate that the generator is struggling to learn the patterns in the data.\n",
    "- **Coherence**: The generated images should have a coherent structure that resembles the original images in the dataset. For example, in the case of our images, the generated images should resemble imagaes of fruits.\n",
    "- **Diversity**: There should be a variety of images generated by the GAN. If all images look similar, it might indicate that the generator is overfitting or has collapsed to a single mode. \n"
   ]
  },
  {
   "cell_type": "markdown",
   "id": "2d853745",
   "metadata": {},
   "source": [
    "1. Run the `sample_images` function after training the GAN to display a grid of generated images.\n",
    "2. Inspect the images for clarity, coherence, and diversity."
   ]
  },
  {
   "cell_type": "code",
   "execution_count": 173,
   "id": "b89403b2",
   "metadata": {},
   "outputs": [
    {
     "data": {
      "image/png": "[encoded data removed]",
      "text/plain": [
       "<Figure size 1000x1000 with 25 Axes>"
      ]
     },
     "metadata": {},
     "output_type": "display_data"
    }
   ],
   "source": [
    "import matplotlib.pyplot as plt\n",
    "\n",
    "def sample_images(generator, epoch, num_images=25):\n",
    "    noise = np.random.normal(0, 1, (num_images, 100))\n",
    "    generated_images = generator.predict(noise)\n",
    "    generated_images = 0.5 * generated_images + 0.5  # Rescale to [0, 1]\n",
    "    \n",
    "    fig, axs = plt.subplots(5, 5, figsize=(10, 10))\n",
    "    count = 0\n",
    "\n",
    "    for i in range(5):\n",
    "        for j in range(5):\n",
    "            # FIXED: Show all 3 channels (RGB) without grayscale colormap\n",
    "            axs[i, j].imshow(generated_images[count])  # Remove [:, :, 0] and cmap='gray'\n",
    "            axs[i, j].axis('off')\n",
    "            count += 1\n",
    "    plt.show()\n",
    "\n",
    "\n",
    "# Sample images at the end of training\n",
    "sample_images(generator, epochs)"
   ]
  },
  {
   "cell_type": "markdown",
   "id": "dd2674c0",
   "metadata": {},
   "source": [
    "I've tried to enhance the results by tuning numerous parameters but I think this is just a data quantity problem rather than a code problem"
   ]
  },
  {
   "cell_type": "markdown",
   "id": "209c0195",
   "metadata": {},
   "source": [
    "##### Quantitative Assessment: Metrics "
   ]
  },
  {
   "cell_type": "code",
   "execution_count": 174,
   "id": "ab0a41ff",
   "metadata": {},
   "outputs": [
    {
     "name": "stdout",
     "output_type": "stream",
     "text": [
      "Generator output shape: (None, 32, 32, 3)\n",
      "Discriminator input shape: (None, 32, 32, 3)\n",
      "x_train shape: (320, 32, 32, 3)\n",
      "Generated images shape: (32, 32, 32, 3)\n"
     ]
    }
   ],
   "source": [
    "# Check what your models actually expect/produce\n",
    "print(\"Generator output shape:\", generator.output_shape)\n",
    "print(\"Discriminator input shape:\", discriminator.input_shape)\n",
    "\n",
    "# Check your data shapes\n",
    "print(\"x_train shape:\", x_train_augmented.shape)\n",
    "print(\"Generated images shape:\", generated_images.shape)"
   ]
  },
  {
   "cell_type": "code",
   "execution_count": 175,
   "id": "a07d3530",
   "metadata": {},
   "outputs": [
    {
     "name": "stdout",
     "output_type": "stream",
     "text": [
      "Discriminator Accuracy on Real Images: 100.00%\n",
      "Discriminator Accuracy on Fake Images: 0.00%\n"
     ]
    }
   ],
   "source": [
    "# Calculate and print the discriminator accuracy on real vs. fake images\n",
    "noise = np.random.normal(0, 1, (batch_size, 100))\n",
    "generated_images = generator.predict(noise)\n",
    "\n",
    "# Evaluate the discriminator on real images\n",
    "real_images = x_train_augmented[np.random.randint(0, x_train_augmented.shape[0], batch_size)]\n",
    "d_loss_real = discriminator.evaluate(real_images, np.ones((batch_size, 1)), verbose=0)\n",
    "\n",
    "# Evaluate the discriminator on fake images\n",
    "d_loss_fake = discriminator.evaluate(generated_images, np.zeros((batch_size, 1)), verbose=0)\n",
    "\n",
    "print(f\"Discriminator Accuracy on Real Images: {d_loss_real[1] * 100:.2f}%\")\n",
    "print(f\"Discriminator Accuracy on Fake Images: {d_loss_fake[1] * 100:.2f}%\")\n"
   ]
  }
 ],
 "metadata": {
  "kernelspec": {
   "display_name": "GPU",
   "language": "python",
   "name": "python3"
  },
  "language_info": {
   "codemirror_mode": {
    "name": "ipython",
    "version": 3
   },
   "file_extension": ".py",
   "mimetype": "text/x-python",
   "name": "python",
   "nbconvert_exporter": "python",
   "pygments_lexer": "ipython3",
   "version": "3.9.18"
  }
 },
 "nbformat": 4,
 "nbformat_minor": 5
}

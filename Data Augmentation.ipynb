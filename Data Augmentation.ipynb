{
 "cells": [
  {
   "cell_type": "markdown",
   "id": "c2a378c1",
   "metadata": {},
   "source": [
    "# Transformers for Text Generation \n"
   ]
  },
  {
   "cell_type": "markdown",
   "id": "5016dcdb",
   "metadata": {},
   "source": [
    "- Implement Transformers for text generation tasks\n",
    "- Build, train, and evaluate Transformer models for text generation using TensorFlow and Keras\n",
    "- Apply text generation in real-world scenarios"
   ]
  },
  {
   "cell_type": "markdown",
   "id": "bbca1e36",
   "metadata": {},
   "source": [
    "#### Step 1: Set up the environment"
   ]
  },
  {
   "cell_type": "code",
   "execution_count": 3,
   "id": "c07882b7",
   "metadata": {},
   "outputs": [
    {
     "name": "stdout",
     "output_type": "stream",
     "text": [
      "First Citizen:\n",
      "Before we proceed any further, hear me speak.\n",
      "\n",
      "All:\n",
      "Speak, speak.\n",
      "\n",
      "First Citizen:\n",
      "You are all resolved rather to die than to famish?\n",
      "\n",
      "All:\n",
      "Resolved. resolved.\n",
      "\n",
      "First Citizen:\n",
      "First, you know Caius Marcius is chief enemy to the people.\n",
      "\n",
      "All:\n",
      "We know't, we know't.\n",
      "\n",
      "First Citizen:\n",
      "Let us kill him, and we'll have corn at our own price.\n",
      "Is't a verdict?\n",
      "\n",
      "All:\n",
      "No more talking on't; let it be done: away, away!\n",
      "\n",
      "Second Citizen:\n",
      "One word, good citizens.\n",
      "\n",
      "First Citizen:\n",
      "We are accounted poor citizens, the patricians good.\n",
      "What authority surfeits on would relieve us: if they\n",
      "would yield us but the superfluity, while it were\n",
      "wholesome, we might guess they relieved us humanely;\n",
      "but they think we are too dear: the leanness that\n",
      "afflicts us, the object of our misery, is as an\n",
      "inventory to particularise their abundance; our\n",
      "sufferance is a gain to them Let us revenge this with\n",
      "our pikes, ere we become rakes: for the gods know I\n",
      "speak this in hunger for bread, not in thirst for revenge.\n",
      "\n",
      "\n"
     ]
    }
   ],
   "source": [
    "import tensorflow as tf\n",
    "import numpy as np\n",
    "# from tensorflow.keras.layers import TextVectorization\n",
    "try:\n",
    "    from tensorflow.keras.layers import TextVectorization\n",
    "except ImportError:\n",
    "    from tensorflow.keras.layers.experimental.preprocessing import TextVectorization\n",
    "\n",
    "from tensorflow.keras.utils import get_file\n",
    "\n",
    "# Load the dataset\n",
    "path_to_file = get_file('shakespeare.txt', 'https://storage.googleapis.com/download.tensorflow.org/data/shakespeare.txt') \n",
    "text = open(path_to_file, 'rb').read().decode(encoding='utf-8')\n",
    "\n",
    "# Preview the dataset\n",
    "print(text[:1000])"
   ]
  },
  {
   "cell_type": "code",
   "execution_count": 4,
   "id": "5fd56f4d",
   "metadata": {},
   "outputs": [
    {
     "name": "stdout",
     "output_type": "stream",
     "text": [
      "Vectorized text shape:  (202646,)\n",
      "First 10 vectorized tokens:  [ 89 270 138  36 982 144 673 125  16 106]\n"
     ]
    }
   ],
   "source": [
    "# Preprocess the data\n",
    "vocab_size = 10000 # Above 10000 for a dataset like this may result to overfitting and waste of memory.\n",
    "seq_length = 100\n",
    "\n",
    "# Adapt TextVectorization to full text\n",
    "vectorizer = TextVectorization(max_tokens=vocab_size, output_mode='int') # Create a TextVectorization layer that will convert text → integer sequences\n",
    "text_ds = tf.data.Dataset.from_tensor_slices([text]).batch(1) # Put the whole text into a dataset (needed for the vectorizer to learn the words)\n",
    "vectorizer.adapt(text_ds) # Teach the vectorizer what words exist in the text and how often they appear\n",
    "\n",
    "\n",
    "# Vectorize the text\n",
    "vectorized_text = vectorizer([text])[0] # Turn the text into a list of numbers (one number per word)\n",
    "print(\"Vectorized text shape: \", vectorized_text.shape) # Show how many numbers (words) are in the text\n",
    "print(\"First 10 vectorized tokens: \", vectorized_text.numpy()[:10]) # Show the first 10 numbers as an example"
   ]
  },
  {
   "cell_type": "markdown",
   "id": "531390d8",
   "metadata": {},
   "source": [
    "The Shakespeare dataset has 202,646 word tokens in total, and the model learns from only 10,000 out of the 202,646"
   ]
  },
  {
   "cell_type": "markdown",
   "id": "453c5f8c",
   "metadata": {},
   "source": [
    "In the code above: \n",
    "\n",
    "1. Built a vocabulary (up to 10,000 unique words).\n",
    " - The vectorizer scans the whole Shakespeare text and figures out the most common words. \n",
    " - Each word gets an ID number (e.g., \"the\" → 5, \"love\" → 28) (the numbers are assigned on how common these words appear, the more common the lower. [Also starts from 2, as 0 and 1 are reserved for padding and out of vocabulary tokens])\n",
    "\n",
    "2. Convert text → integers.\n",
    " - The raw words in the play are replaced with their IDs.\n",
    " - Instead of: \"To be or not to be\" You get something like: [89, 270, 138, 36, 982, 144]\n",
    "\n",
    "3. Prepare for the model.\n",
    " - Neural networks can’t process raw text.\n",
    " - By turning words into numbers, we can feed them into an embedding layer (which turns each word ID into a vector of floats) → then into a Transformer."
   ]
  },
  {
   "cell_type": "markdown",
   "id": "39162500",
   "metadata": {},
   "source": [
    "#### Step 2: Create input and target sequences"
   ]
  },
  {
   "cell_type": "markdown",
   "id": "0ff1776c",
   "metadata": {},
   "source": [
    "Generate input and target sequences for training the Transformer model."
   ]
  },
  {
   "cell_type": "code",
   "execution_count": 5,
   "id": "5f01ee04",
   "metadata": {},
   "outputs": [
    {
     "name": "stdout",
     "output_type": "stream",
     "text": [
      "Number of sequences generated:  202546\n",
      "Sample input sequence:  [  89  270  138   36  982  144  673  125   16  106   34  106  106   89\n",
      "  270    7   41   34 1286  344    4  200   64    4 3690   34 1286 1286\n",
      "   89  270   89    7   93 1187  225   12 2442  592    4    2  307   34\n",
      "   36 2655   36 2655   89  270   72   79  506   27    3   56   24 1390\n",
      "   57   40  161 2328  644    9 4980   34   32   54 2863  885   72   17\n",
      "   18  163  146  146  165  270   74  218   46  595   89  270   36   41\n",
      " 6739  172  595    2 1780   46   29 1323 5151   47   58 4151   79   39\n",
      "   60   58]\n",
      "Shape of X:  (202546, 100)\n",
      "Shape of Y:  (202546, 100)\n"
     ]
    }
   ],
   "source": [
    "def create_sequences(text, seq_length):\n",
    "    # These will store many training examples\n",
    "    input_seqs = [] # inputs the model sees\n",
    "    target_seqs =[] # correct answers the model should predict\n",
    "    \n",
    "    # Slide a window of length `seq_length` across the text\n",
    "    for i in range(len(text) - seq_length):\n",
    "        # Input = current window of tokens\n",
    "        input_seq = text[i:i + seq_length]\n",
    "        # Target = same window but shifted by one token\n",
    "        # This makes the \"next word prediction\" task\n",
    "        target_seq = text[i + 1:i + seq_length + 1]\n",
    "        # Save them\n",
    "        input_seqs.append(input_seq)\n",
    "        target_seqs.append(target_seq)\n",
    "    # Convert lists into arrays (for TensorFlow to use)\n",
    "    return np.array(input_seqs), np.array(target_seqs)\n",
    "\n",
    "# Generate sequences\n",
    "# Create input/output pairs from the vectorized Shakespeare text\n",
    "X, Y = create_sequences(vectorized_text.numpy(), seq_length)\n",
    "\n",
    "# Check if sequences are correctly generated \n",
    "\n",
    "# Show how many training pairs we built\n",
    "print(\"Number of sequences generated: \", len(X))\n",
    "# Show the first input sequence (just for inspection)\n",
    "print(\"Sample input sequence: \", X[0] if len(X) > 0 else \"No sequences generated\")\n",
    "\n",
    "# Check if X and Y are not empty\n",
    "# Make sure nothing went wrong (no empty data)\n",
    "assert X.size > 0, \"Input data X is empty\"\n",
    "assert Y.size > 0, \"Target data Y is empty\"\n",
    "\n",
    "# Convert arrays into TensorFlow tensors (so they can go into a model)\n",
    "X = tf.convert_to_tensor(X)\n",
    "Y = tf.convert_to_tensor(Y)\n",
    "\n",
    "# Print the final shapes\n",
    "print(\"Shape of X: \", X.shape)\n",
    "print(\"Shape of Y: \", Y.shape)"
   ]
  },
  {
   "cell_type": "markdown",
   "id": "132cc5fb",
   "metadata": {},
   "source": [
    "1. The Goal\n",
    "    We want the model to learn how to predict the next word in a sequence of text.\n",
    "To do that, we need to turn our long vector of words (202,646 tokens) into training examples.\n",
    "\n",
    "2. The Sliding Window\n",
    "    The function create_sequences(text, seq_length) creates a sliding window of length seq_length (say 100) across the text.\n",
    "\n",
    "    For each position i:\n",
    "    \n",
    "        Input sequence (X) = tokens from i to i + seq_length\n",
    "        Target sequence (Y) = the same tokens but shifted one step to the right\n",
    "\n",
    "    So the model is asked:\n",
    "    👉 “If you see this chunk of text, what comes next?”\n",
    "\n",
    "3. Example (small numbers)\n",
    "    If text = [10, 20, 30, 40, 50] and seq_length = 3:\n",
    "        Step 0:\n",
    "            Input = [10, 20, 30]\n",
    "            Target = [20, 30, 40]\n",
    "\n",
    "        Step 1:\n",
    "            Input = [20, 30, 40]\n",
    "            Target = [30, 40, 50]\n",
    "\n",
    "        So we get:\n",
    "            X = [[10,20,30], [20,30,40]]\n",
    "            Y = [[20,30,40], [30,40,50]]\n",
    "\n",
    "4. Why Do This?\n",
    "    - The model doesn’t just learn single-word predictions.\n",
    "\n",
    "    - It learns from overlapping contexts — every word appears many times in different positions.\n",
    "\n",
    "    - By training on millions of these pairs, the model picks up grammar, style, and sequence patterns.\n",
    "\n",
    "✅ In plain English:\n",
    "This code chops the text into many overlapping “questions and answers.”\n",
    "\n",
    "    - The question (X) = “Here are 100 words in order.”\n",
    "    - The answer (Y) = “Here are the next 100 words (shifted by one).”\n",
    "    The model learns this mapping so it can predict the next word when generating text."
   ]
  },
  {
   "cell_type": "markdown",
   "id": "648edbd6",
   "metadata": {},
   "source": [
    "Decode the IDs into words, so we can see what actaully is happening"
   ]
  },
  {
   "cell_type": "code",
   "execution_count": 6,
   "id": "4731be90",
   "metadata": {},
   "outputs": [
    {
     "name": "stdout",
     "output_type": "stream",
     "text": [
      "Decoded sequence:\n",
      " first citizen before we proceed any further hear me speak all speak speak first citizen you are all resolved rather to die than to famish all resolved resolved first citizen first you know caius marcius is chief enemy to the people all we knowt we knowt first citizen let us kill him and well have corn at our own price ist a verdict all no more talking ont let it be done away away second citizen one word good citizens first citizen we are accounted poor citizens the patricians good what authority surfeits on would relieve us if they would\n"
     ]
    }
   ],
   "source": [
    "# Get the vocabulary list from the vectorizer\n",
    "# index -> word mapping\n",
    "vocab = vectorizer.get_vocabulary()\n",
    "\n",
    "# Sample input sequence (the numbers you printed)\n",
    "sample_sequence = X[0].numpy()\n",
    "\n",
    "# Decode numbers back into words\n",
    "decoded_words = [vocab[token_id] for token_id in sample_sequence]\n",
    "\n",
    "# Join into a readable string\n",
    "decoded_text = \" \".join(decoded_words)\n",
    "\n",
    "print(\"Decoded sequence:\\n\", decoded_text)\n"
   ]
  },
  {
   "cell_type": "markdown",
   "id": "187d02a0",
   "metadata": {},
   "source": [
    "#### Step 3: Build the Transformer model"
   ]
  },
  {
   "cell_type": "markdown",
   "id": "dc9cb557",
   "metadata": {},
   "source": [
    "Define the Transformer model architecture for text generation. \n",
    "\n",
    "In the following code:\n",
    " - Define the TransformerBlcok class that includes multi-head attention and feedforward layers with normalization and dropout.\n",
    " - Define the TransformerModel class, including embedding, positional encoding, and multiple Transformer blocks.\n",
    " - Compile the Transformer model using Adam optimizer and sparse categorical cross-entropy loss function. "
   ]
  },
  {
   "cell_type": "code",
   "execution_count": 48,
   "id": "b184f810",
   "metadata": {},
   "outputs": [],
   "source": [
    "from tensorflow.keras.layers import Embedding, MultiHeadAttention, Dense, LayerNormalization, Dropout\n",
    "from tensorflow.keras.models import Model\n",
    "\n",
    "class TransformerBlock(tf.keras.layers.Layer):\n",
    "    def __init__(self, embed_dim, num_heads, ff_dim, rate=0.1):\n",
    "        super(TransformerBlock, self).__init__()\n",
    "        # Multi-head attention: \"what should I focus on?\"\n",
    "        self.att = MultiHeadAttention(num_heads=num_heads, key_dim=embed_dim)\n",
    "        # Feed-forward network: expand -> process -> compress\n",
    "        self.ffn = tf.keras.Sequential([\n",
    "            # Dense(ff_dim, activation=\"relu\"), # Expand and activate\n",
    "            Dense(ff_dim, activation=\"leaky_relu\"), # Expand and activate\n",
    "            Dense(embed_dim) # Compress back to original\n",
    "        ])\n",
    "        # Layer normalization: keeps values stable during training\n",
    "        self.layernorm1 = LayerNormalization(epsilon = 1e-6)\n",
    "        self.layernorm2 = LayerNormalization(epsilon = 1e-6)\n",
    "        # Dropout: randomly zero some values to prevent overfitting\n",
    "        self.dropout1 = Dropout(rate)\n",
    "        self.dropout2 = Dropout(rate)\n",
    "\n",
    "    def call(self, inputs, training=False):\n",
    "        # Step 1: Self-attention - each word looks at all other words\n",
    "        attn_output = self.att(inputs, inputs)\n",
    "        attn_output = self.dropout1(attn_output, training=training)\n",
    "        out1 = self.layernorm1(inputs + attn_output) # Add & normalize (residual connection)\n",
    "        # Step 2: Feed-forward processing\n",
    "        ffn_output = self.ffn(out1)\n",
    "        ffn_output = self.dropout2(ffn_output, training=training)\n",
    "        return self.layernorm2(out1 + ffn_output) # Add & normalize again\n",
    "    \n",
    "class TransformerModel(Model): \n",
    "    def __init__(self, vocab_size, embed_dim, num_heads, ff_dim, num_layers, seq_length):\n",
    "        super(TransformerModel, self).__init__()\n",
    "        # Convert word IDs to dense vectors\n",
    "        self.embedding = Embedding(vocab_size, embed_dim)\n",
    "        # Add position information (since attention ignores word order)\n",
    "        self.pos_encoding = self.positional_encoding(seq_length, embed_dim)\n",
    "        # Stack multiple transformer blocks for deeper processing\n",
    "        self.transformer_blocks = [TransformerBlock(embed_dim, num_heads, ff_dim) for _ in range (num_layers)]\n",
    "        # Final layer: convert back to vocabulary predictions\n",
    "        self.dense = Dense(vocab_size)\n",
    "\n",
    "    def positional_encoding(self, seq_length, embed_dim):\n",
    "        # Calculate angles for sine/cosine functions\n",
    "        angle_rads = self.get_angles(np.arange(seq_length)[:, np.newaxis], np.arange(embed_dim)[np.newaxis, :], embed_dim)\n",
    "        # Apply sine to even indices, cosine to odd indices\n",
    "        angle_rads[:, 0::2] = np.sin(angle_rads[:, 0::2]) # Even positions\n",
    "        angle_rads[:, 1::2] = np.cos(angle_rads[:, 1::2]) # Odd positions\n",
    "        # Add batch dimension and convert to TensorFlow tensor\n",
    "        pos_encoding = angle_rads[np.newaxis, ...]\n",
    "        return tf.cast(pos_encoding, dtype=tf.float32)\n",
    "\n",
    "    def get_angles(self, pos, i, embed_dim):\n",
    "        # Different frequencies for different dimensions\n",
    "        angle_rates = 1 / np.power(10000, (2 * (i // 2)) / np.float32(embed_dim))\n",
    "        return pos * angle_rates\n",
    "    \n",
    "    def call(self, inputs, training=False):\n",
    "        seq_len = tf.shape(inputs)[1] # Get sequence length\n",
    "        # Step 1: Convert word IDs to embeddings\n",
    "        x = self.embedding(inputs)\n",
    "        # Step 2: Add positional information\n",
    "        x += self.pos_encoding[:, :seq_len, :]\n",
    "        # Step 3: Pass through each transformer block\n",
    "        for transformer_block in self.transformer_blocks:\n",
    "            x = transformer_block(x, training=training)\n",
    "        # Step 4: Final prediction layer\n",
    "        output = self.dense(x)\n",
    "        return output\n"
   ]
  },
  {
   "cell_type": "markdown",
   "id": "9565a3f9",
   "metadata": {},
   "source": [
    "In the code above: (explanantion by Claude) \n",
    "\n",
    "The Big Picture\n",
    "\n",
    "This is building a Transformer model - the same architecture that powers ChatGPT, BERT, and most modern AI language models. Think of it as a really sophisticated pattern-matching machine that can understand relationships between words in a sentence.\n",
    "\n",
    "Part 1: TransformerBlock - The Core Processing Unit\n",
    "\n",
    "`class TransformerBlock(tf.keras.layers.Layer):`\n",
    "\n",
    "This is like one \"layer\" of thinking. The full model will stack multiple of these together. Each block does two main things:\n",
    "1. Multi-Head Attention - \"What should I pay attention to?\"\n",
    "\n",
    "`self.att = MultiHeadAttention(num_heads=num_heads, key_dim=embed_dim)\n",
    "attn_output = self.att(inputs, inputs)`\n",
    "\n",
    "This is the magic sauce! It looks at every word in the sentence and asks: \"Given this word, which other words in the sentence are most important right now?\"\n",
    "For example, in \"The cat that was sleeping soundly woke up\", when processing \"woke\", the attention mechanism figures out that \"cat\" is super important (not \"sleeping\" or \"soundly\").\n",
    "\n",
    "2. Feed-Forward Network - \"Now let me think about what I learned\"\n",
    "\n",
    "`self.ffn = tf.keras.Sequential([\n",
    "    Dense(ff_dim, activation=\"relu\"),  # Expand and process\n",
    "    Dense(embed_dim)                   # Compress back down\n",
    "])`\n",
    "\n",
    "After figuring out what to pay attention to, it does some deeper processing - like \"OK, I know 'cat' and 'woke' are connected, now what does that actually mean?\"\n",
    "\n",
    "3. The Skip Connections and Normalization\n",
    "\n",
    "`out1 = self.layernorm1(inputs + attn_output)  # Add original input back\n",
    "return self.layernorm2(out1 + ffn_output)     # Add again`\n",
    "\n",
    "This is brilliant engineering - it keeps adding the original input back in. Why? Because it prevents the \"telephone game\" effect where information gets garbled as it passes through many layers.\n",
    "\n",
    "Part 2: TransformerModel - The Full Architecture\n",
    "\n",
    "Word Embeddings\n",
    "\n",
    "`self.embedding = Embedding(vocab_size, embed_dim)`\n",
    "\n",
    "Converts words to numbers. \"cat\" might become [0.2, -0.5, 0.8, ...] - a vector that captures the \"essence\" of what \"cat\" means.\n",
    "\n",
    "Positional Encoding - \"Where am I in the sentence?\"\n",
    "\n",
    "`self.pos_encoding = self.positional_encoding(seq_length, embed_dim)`\n",
    "\n",
    "Here's the weird part: the attention mechanism has no concept of word order! \"Cat dog\" and \"dog cat\" look identical to it. So we need to manually inject position information.\n",
    "The positional encoding uses sine and cosine waves to create a unique \"fingerprint\" for each position:\n",
    "\n",
    "Position 0: [sin(0), cos(0), sin(0), cos(0), ...]\n",
    "Position 1: [sin(1), cos(1), sin(1/100), cos(1/100), ...]\n",
    "Position 2: [sin(2), cos(2), sin(2/100), cos(2/100), ...]\n",
    "\n",
    "Why sine/cosine? Because they create smooth, predictable patterns that help the model understand \"this word comes before that word.\"\n",
    "The Processing Pipeline\n",
    "\n",
    "`def call(self, inputs, training=False):\n",
    "    x = self.embedding(inputs)           # Words → numbers\n",
    "    x += self.pos_encoding[:, :seq_len, :] # Add position info\n",
    "    for transformer_block in self.transformer_blocks:\n",
    "        x = transformer_block(x, training=training)  # Stack multiple layers\n",
    "    output = self.dense(x)               # Final prediction`\n",
    "    \n",
    "What This Model Actually Does\n",
    "\n",
    "Takes in: A sequence of word IDs like [45, 123, 67, 891] (representing \"The cat is sleeping\")\n",
    "Converts: Each ID to a rich vector representation\n",
    "Adds: Position information so it knows word order\n",
    "Processes: Through multiple transformer blocks, each one getting better at understanding context\n",
    "Outputs: Predictions for what the next word should be\n",
    "\n",
    "Why This Architecture is Genius\n",
    "\n",
    "Parallel Processing: Unlike older models that had to process words one-by-one, this can look at all words simultaneously\n",
    "Long-Range Dependencies: It can connect \"The cat\" with \"woke up\" even with lots of words in between\n",
    "Scalable: You can make it smarter by adding more layers or making the embeddings bigger\n",
    "\n",
    "The whole thing is essentially a very sophisticated autocomplete system that's learned incredibly nuanced patterns about how language works!"
   ]
  },
  {
   "cell_type": "code",
   "execution_count": 50,
   "id": "5d92ec9c",
   "metadata": {},
   "outputs": [
    {
     "name": "stdout",
     "output_type": "stream",
     "text": [
      "Model: \"transformer_model_16\"\n",
      "_________________________________________________________________\n",
      "Layer (type)                 Output Shape              Param #   \n",
      "=================================================================\n",
      "embedding_16 (Embedding)     multiple                  2560000   \n",
      "_________________________________________________________________\n",
      "transformer_block_66 (Transf multiple                  1315840   \n",
      "_________________________________________________________________\n",
      "transformer_block_67 (Transf multiple                  1315840   \n",
      "_________________________________________________________________\n",
      "transformer_block_68 (Transf multiple                  1315840   \n",
      "_________________________________________________________________\n",
      "transformer_block_69 (Transf multiple                  1315840   \n",
      "_________________________________________________________________\n",
      "dense_156 (Dense)            multiple                  2570000   \n",
      "=================================================================\n",
      "Total params: 10,393,360\n",
      "Trainable params: 10,393,360\n",
      "Non-trainable params: 0\n",
      "_________________________________________________________________\n"
     ]
    }
   ],
   "source": [
    "# Hyperparameters\n",
    "embed_dim = 256\n",
    "num_heads = 4\n",
    "ff_dim = 512\n",
    "num_layers = 4\n",
    "\n",
    "\n",
    "# Build the Transformer model\n",
    "model = TransformerModel(vocab_size, embed_dim, num_heads, ff_dim, num_layers, seq_length)\n",
    "\n",
    "# Provide input shape to build the model by passing a dummy input with maxval specified \n",
    "_ = model(tf.random.uniform((1, seq_length), maxval=vocab_size, dtype=tf.int32))\n",
    "\n",
    "optimizer = tf.keras.optimizers.Adam(learning_rate=0.00002)\n",
    "# Compile the model \n",
    "model.compile(optimizer=optimizer, loss='sparse_categorical_crossentropy')\n",
    "\n",
    "# Summary of the model\n",
    "model.summary()\n"
   ]
  },
  {
   "cell_type": "markdown",
   "id": "4412e1cf",
   "metadata": {},
   "source": [
    "#### Step 4: Train the Transformer model"
   ]
  },
  {
   "cell_type": "code",
   "execution_count": 9,
   "id": "0b4f1f57",
   "metadata": {},
   "outputs": [
    {
     "name": "stdout",
     "output_type": "stream",
     "text": [
      "GPU Available: [PhysicalDevice(name='/physical_device:GPU:0', device_type='GPU')]\n",
      "Num GPUs Available:  1\n",
      "TensorFlow built with CUDA: True\n"
     ]
    }
   ],
   "source": [
    "print(\"GPU Available:\", tf.config.list_physical_devices('GPU'))\n",
    "print(\"Num GPUs Available: \", len(tf.config.list_physical_devices('GPU')))\n",
    "print(\"TensorFlow built with CUDA:\", tf.test.is_built_with_cuda())"
   ]
  },
  {
   "cell_type": "markdown",
   "id": "33bd796b",
   "metadata": {},
   "source": [
    "Loss was increasing, had to lower the learning rate..."
   ]
  },
  {
   "cell_type": "code",
   "execution_count": 51,
   "id": "46bf12b8",
   "metadata": {},
   "outputs": [
    {
     "name": "stdout",
     "output_type": "stream",
     "text": [
      "Epoch 1/20\n",
      "792/792 [==============================] - 302s 376ms/step - loss: 9.4701\n",
      "Epoch 2/20\n",
      "792/792 [==============================] - 299s 377ms/step - loss: 8.7744\n",
      "Epoch 3/20\n",
      "792/792 [==============================] - 298s 377ms/step - loss: 8.6641\n",
      "Epoch 4/20\n",
      "792/792 [==============================] - 298s 377ms/step - loss: 8.6103\n",
      "Epoch 5/20\n",
      "792/792 [==============================] - 298s 377ms/step - loss: 8.5987\n",
      "Epoch 6/20\n",
      "792/792 [==============================] - 298s 376ms/step - loss: 8.5754\n",
      "Epoch 7/20\n",
      "792/792 [==============================] - 297s 375ms/step - loss: 8.5485\n",
      "Epoch 8/20\n",
      "792/792 [==============================] - 297s 375ms/step - loss: 8.5481\n",
      "Epoch 9/20\n",
      "792/792 [==============================] - 297s 375ms/step - loss: 8.5313\n",
      "Epoch 10/20\n",
      "792/792 [==============================] - 297s 374ms/step - loss: 8.5323\n",
      "Epoch 11/20\n",
      "792/792 [==============================] - 297s 374ms/step - loss: 8.5171\n",
      "Epoch 12/20\n",
      "792/792 [==============================] - 297s 374ms/step - loss: 8.5103\n",
      "Epoch 13/20\n",
      "792/792 [==============================] - 297s 374ms/step - loss: 8.4970\n",
      "Epoch 14/20\n",
      "792/792 [==============================] - 297s 374ms/step - loss: 8.5296\n",
      "Epoch 15/20\n",
      "792/792 [==============================] - 297s 374ms/step - loss: 8.5027\n"
     ]
    },
    {
     "data": {
      "image/png": "[encoded data removed]",
      "text/plain": [
       "<Figure size 640x480 with 1 Axes>"
      ]
     },
     "metadata": {},
     "output_type": "display_data"
    }
   ],
   "source": [
    "import matplotlib.pyplot as plt\n",
    "from tensorflow.keras.callbacks import EarlyStopping\n",
    "\n",
    "# Early stopping callback to stop training if the loss doesn't improve\n",
    "early_stopping = EarlyStopping(monitor='loss', patience=2, restore_best_weights=True)\n",
    "\n",
    "# Train the transformer model on the full input and target sequences\n",
    "history = model.fit(X, Y, epochs=20, batch_size=256, callbacks=[early_stopping])\n",
    "\n",
    "# Plot training loss to monitor model performance over epochs\n",
    "plt.plot(history.history['loss'])\n",
    "plt.xlabel('Epoch')\n",
    "plt.ylabel('Loss')\n",
    "plt.title('Training Loss')\n",
    "plt.show()"
   ]
  },
  {
   "cell_type": "markdown",
   "id": "1d3ea5c9",
   "metadata": {},
   "source": [
    "We ended up with a pretty bad output. Let's see what kind of text it can generate. "
   ]
  },
  {
   "cell_type": "markdown",
   "id": "ba3d9960",
   "metadata": {},
   "source": [
    "#### Step 5: Generate text with the trained model"
   ]
  },
  {
   "cell_type": "markdown",
   "id": "262f9573",
   "metadata": {},
   "source": [
    "Define a function to generate text using the trained Transformer model."
   ]
  },
  {
   "cell_type": "code",
   "execution_count": 52,
   "id": "03ef0c5a",
   "metadata": {},
   "outputs": [
    {
     "name": "stdout",
     "output_type": "stream",
     "text": [
      "To be, or not to be siege duteous paly messenger midday whos froth deign likewise tempting requires kin soft lamberts happiness hard watches fancy fight heartily overmerry mounting bring thread giant shepherds bias corse heir deceiving sake nowwill forbear mocker tempter vowed usage homebred cakes ado distress forswear creep whatsoeer pink old drift burgundy lonely vented widowd music cowardice liege feeble scraping daughter commodity judgment bud firmly leanness remained broke remainder nosegays yearnd loathed exceeds pleased wounded townarmory draws merciless condemned treasure bawd rebel young rebate soils lions bianca for mellowd alike mans french mightiest singularities off palpable shakest pence oaths governd rotten tumble mystery remembers\n"
     ]
    }
   ],
   "source": [
    "def generate_text(model, start_string, num_generate=100, temperature=1.0):\n",
    "    # Convert the start string to a vectorized format. \n",
    "    input_eval = vectorizer([start_string]).numpy()\n",
    "\n",
    "    # Ensure the input length is the same as the model's expected input shape.\n",
    "    if input_eval.shape[1] < seq_length:\n",
    "        # Pad the input if it's shorter than the expected sequence length\n",
    "        padding = np.zeros((1, seq_length - input_eval.shape[1]))\n",
    "        input_eval = np.concatenate((padding, input_eval), axis=1)\n",
    "    elif input_eval.shape[1] > seq_length:\n",
    "        # Shorten the input if it's longer than the expected sequence length\n",
    "        input_eval = input_eval[:, -seq_length:]\n",
    "\n",
    "    input_eval = tf.convert_to_tensor(input_eval)\n",
    "\n",
    "    # Initialize an empty list to store generated text\n",
    "    text_generated = []\n",
    "\n",
    "    # Start generating text\n",
    "    for i in range(num_generate):\n",
    "        # Make predictions using the model\n",
    "        predictions = model(input_eval)\n",
    "\n",
    "        # Remove only the batch dimension, keep the logits as 2D (batch_size, vocab_size)\n",
    "        predictions = predictions[0] # This should be of shape [vocab_size]\n",
    "\n",
    "        # Apply temperature to predictions \n",
    "        predictions = predictions / temperature\n",
    "\n",
    "        # Use a categorical distribution to predict the next word\n",
    "        predicted_id = tf.random.categorical(predictions, num_samples=1)[0, 0].numpy()\n",
    "\n",
    "        # Update the input tensor to include the predicted word, maintaining the sequence length\n",
    "        input_eval = np.append(input_eval.numpy(), [[predicted_id]], axis=1) # Append predicted token\n",
    "        input_eval = input_eval[:, -seq_length: ] # Keep only the last `seq_length` tokens\n",
    "        input_eval = tf.convert_to_tensor(input_eval) # Convert back to tensor\n",
    "\n",
    "        # Append the predicted word to the generated text\n",
    "        text_generated.append(vectorizer.get_vocabulary()[predicted_id])\n",
    "\n",
    "    # Return the generated text starting from the initial seed\n",
    "    return start_string + ' ' + ' '.join(text_generated)\n",
    "\n",
    "# Generate text with temperature control\n",
    "start_string = \"To be, or not to be\"\n",
    "generated_text = generate_text(model, start_string, temperature=0.7) # Lower temperature for more focused predictions\n",
    "print(generated_text)\n",
    "\n",
    "\n"
   ]
  },
  {
   "cell_type": "markdown",
   "id": "a30c0218",
   "metadata": {},
   "source": [
    "As shown, terrible output. This probably just has to do with my hardware and data limits."
   ]
  }
 ],
 "metadata": {
  "kernelspec": {
   "display_name": "GPU",
   "language": "python",
   "name": "python3"
  },
  "language_info": {
   "codemirror_mode": {
    "name": "ipython",
    "version": 3
   },
   "file_extension": ".py",
   "mimetype": "text/x-python",
   "name": "python",
   "nbconvert_exporter": "python",
   "pygments_lexer": "ipython3",
   "version": "3.9.18"
  }
 },
 "nbformat": 4,
 "nbformat_minor": 5
}
